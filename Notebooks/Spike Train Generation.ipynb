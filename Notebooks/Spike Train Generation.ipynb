{
 "cells": [
  {
   "cell_type": "code",
   "execution_count": 1,
   "id": "7b31eeb6",
   "metadata": {},
   "outputs": [],
   "source": [
    "import numpy as np\n",
    "import matplotlib.pyplot as plt"
   ]
  },
  {
   "cell_type": "code",
   "execution_count": 71,
   "id": "b96f08f3",
   "metadata": {},
   "outputs": [],
   "source": [
    "def generate_spike_trains_eps(length=1000, trials=1, fr_X=40, epsilon_1=0.1, epsilon_2=0.1):\n",
    "    \"\"\"\n",
    "    Generates X and Y spike train matrices using epsilon parameters.\n",
    "    \n",
    "    Parameters:\n",
    "    - length: Length of the spike train.\n",
    "    - trials: Number of trials.\n",
    "    - fr_X: Firing rate of X in Hz.\n",
    "    - epsilon_1: P(Y=0 | X=0)\n",
    "    - epsilon_2: P(Y=0 | X=1)\n",
    "    \n",
    "    Returns:\n",
    "    - X: Binary matrix of shape (trials, length).\n",
    "    - Y: Binary matrix of shape (trials, length).\n",
    "    \"\"\"\n",
    "    dt = 0.001  # 1 ms time bins\n",
    "    p_fire_X = fr_X * dt  # Probability of firing in each time bin\n",
    "    \n",
    "    # Generate X matrix\n",
    "    X = np.random.rand(trials, length) < p_fire_X  # Binary matrix\n",
    "    \n",
    "    # Generate Y matrix based on X and epsilon parameters\n",
    "    Y = np.zeros((trials, length), dtype=bool)\n",
    "    for trial in range(trials):\n",
    "        for t in range(length):\n",
    "            if X[trial, t]:\n",
    "                # If X fired, Y fires with probability (1 - epsilon_2)\n",
    "                Y[trial, t] = np.random.rand() < (1 - epsilon_2)\n",
    "            else:\n",
    "                # If X didn't fire, Y fires with probability epsilon_1\n",
    "                Y[trial, t] = np.random.rand() < (1 - epsilon_1)\n",
    "    return X.astype(int), Y.astype(int)"
   ]
  },
  {
   "cell_type": "code",
   "execution_count": 72,
   "id": "4bee4d7b",
   "metadata": {},
   "outputs": [
    {
     "data": {
      "image/png": "[encoded data removed]",
      "text/plain": [
       "<Figure size 1200x400 with 1 Axes>"
      ]
     },
     "metadata": {},
     "output_type": "display_data"
    }
   ],
   "source": [
    "def plot_spike_trains(X, Y, trial=0):\n",
    "    \"\"\"\n",
    "    Plots the spike trains for X and Y for a given trial.\n",
    "    \n",
    "    Parameters:\n",
    "    - X: Spike train matrix for X.\n",
    "    - Y: Spike train matrix for Y.\n",
    "    - trial: Index of the trial to plot.\n",
    "    \"\"\"\n",
    "    plt.figure(figsize=(12, 4))\n",
    "    times = np.arange(X.shape[1])  # Time bins\n",
    "    plt.eventplot([times[X[trial] == 1], times[Y[trial] == 1]],\n",
    "                  lineoffsets=[1, 0], linelengths=0.8,\n",
    "                  colors=['black', 'red'])\n",
    "    plt.yticks([0, 1], ['Y', 'X'])\n",
    "    plt.xlabel('Time bins')\n",
    "    plt.ylabel('Neuron')\n",
    "    plt.title('Spike Trains for Trial {}'.format(trial))\n",
    "    plt.show()\n",
    "\n",
    "epsilon_1 = 0.95  # P(Y=0 | X=0)\n",
    "epsilon_2 = 0.5  # P(Y=0 | X=1)\n",
    "\n",
    "X, Y = generate_spike_trains_eps(epsilon_1=epsilon_1, epsilon_2=epsilon_2)\n",
    "plot_spike_trains(X, Y)"
   ]
  },
  {
   "cell_type": "code",
   "execution_count": 75,
   "id": "7284fecf",
   "metadata": {},
   "outputs": [],
   "source": [
    "def adjust_epsilon_1(fr_X, epsilon_2, dt=0.001):\n",
    "    p_X = fr_X * dt\n",
    "    epsilon_1 = (1 - p_X * (1 + epsilon_2)) / (1 - p_X)\n",
    "    # Ensure epsilon_2 is between 0 and 1\n",
    "    epsilon_1 = np.clip(epsilon_1, 0, 1)\n",
    "    return epsilon_1"
   ]
  },
  {
   "cell_type": "code",
   "execution_count": 79,
   "id": "4c29ecbb",
   "metadata": {},
   "outputs": [
    {
     "name": "stdout",
     "output_type": "stream",
     "text": [
      "Adjusted epsilon_2: 0.95\n",
      "Actual firing rate of X: 39.0 Hz\n",
      "Actual firing rate of Y: 46.0 Hz\n"
     ]
    },
    {
     "data": {
      "image/png": "[encoded data removed]",
      "text/plain": [
       "<Figure size 1200x400 with 1 Axes>"
      ]
     },
     "metadata": {},
     "output_type": "display_data"
    }
   ],
   "source": [
    "epsilon_2 = 0.95  # P(Y=0 | X=1), coupling strenght\n",
    "fr_X = 40  # Firing rate of X in Hz\n",
    "dt=0.001 # 1 ms time bins\n",
    "\n",
    "epsilon_1 = adjust_epsilon_1(fr_X, epsilon_2)\n",
    "\n",
    "print(\"Adjusted epsilon_2:\", epsilon_2)\n",
    "\n",
    "X, Y = generate_spike_trains_eps(fr_X=fr_X, epsilon_1=epsilon_1, epsilon_2=epsilon_2)\n",
    "\n",
    "# Calculate firing rates\n",
    "fr_X_actual = np.mean(X) / dt\n",
    "fr_Y_actual = np.mean(Y) / dt\n",
    "\n",
    "print(\"Actual firing rate of X:\", fr_X_actual, \"Hz\")\n",
    "print(\"Actual firing rate of Y:\", fr_Y_actual, \"Hz\")\n",
    "\n",
    "plot_spike_trains(X, Y)"
   ]
  },
  {
   "cell_type": "code",
   "execution_count": 80,
   "id": "846da2f5",
   "metadata": {},
   "outputs": [],
   "source": [
    "def generate_spike_trains_coupl(length=1000, trials=1, fr_X=40, epsilon_2=0.1):\n",
    "    \"\"\"\n",
    "    Generates X and Y spike train matrices using epsilon parameters.\n",
    "    \n",
    "    Parameters:\n",
    "    - length: Length of the spike train.\n",
    "    - trials: Number of trials.\n",
    "    - fr_X: Firing rate of X in Hz.\n",
    "    - epsilon_1: P(Y=0 | X=0)\n",
    "    - epsilon_2: P(Y=0 | X=1)\n",
    "    \n",
    "    Returns:\n",
    "    - X: Binary matrix of shape (trials, length).\n",
    "    - Y: Binary matrix of shape (trials, length).\n",
    "    \"\"\"\n",
    "    dt = 0.001  # 1 ms time bins\n",
    "    p_fire_X = fr_X * dt  # Probability of firing in each time bin\n",
    "    epsilon_1 = adjust_epsilon_1(fr_X, epsilon_2)\n",
    "    \n",
    "    # Generate X matrix\n",
    "    X = np.random.rand(trials, length) < p_fire_X  # Binary matrix\n",
    "    \n",
    "    # Generate Y matrix based on X and epsilon parameters\n",
    "    Y = np.zeros((trials, length), dtype=bool)\n",
    "    for trial in range(trials):\n",
    "        for t in range(length):\n",
    "            if X[trial, t]:\n",
    "                # If X fired, Y fires with probability (1 - epsilon_2)\n",
    "                Y[trial, t] = np.random.rand() < (1 - epsilon_2)\n",
    "            else:\n",
    "                # If X didn't fire, Y fires with probability epsilon_1\n",
    "                Y[trial, t] = np.random.rand() < (1 - epsilon_1)\n",
    "    return X.astype(int), Y.astype(int)"
   ]
  },
  {
   "cell_type": "code",
   "execution_count": null,
   "id": "22fe4e72",
   "metadata": {},
   "outputs": [],
   "source": []
  }
 ],
 "metadata": {
  "kernelspec": {
   "display_name": "Python 3 (ipykernel)",
   "language": "python",
   "name": "python3"
  },
  "language_info": {
   "codemirror_mode": {
    "name": "ipython",
    "version": 3
   },
   "file_extension": ".py",
   "mimetype": "text/x-python",
   "name": "python",
   "nbconvert_exporter": "python",
   "pygments_lexer": "ipython3",
   "version": "3.12.6"
  }
 },
 "nbformat": 4,
 "nbformat_minor": 5
}
